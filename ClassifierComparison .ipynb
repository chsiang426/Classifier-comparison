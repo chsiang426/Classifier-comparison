{
 "cells": [
  {
   "cell_type": "code",
   "execution_count": 7,
   "metadata": {
    "_cell_guid": "05650abe-5623-464f-b22e-4d6f22e4c4a8",
    "_uuid": "7f956ee9-4444-49ed-b792-5c73ac0831b7",
    "execution": {
     "iopub.execute_input": "2022-10-26T12:57:06.034091Z",
     "iopub.status.busy": "2022-10-26T12:57:06.033730Z",
     "iopub.status.idle": "2022-10-26T12:57:06.040158Z",
     "shell.execute_reply": "2022-10-26T12:57:06.039113Z",
     "shell.execute_reply.started": "2022-10-26T12:57:06.034060Z"
    },
    "jupyter": {
     "outputs_hidden": false
    }
   },
   "outputs": [],
   "source": [
    "import numpy as np # linear algebra\n",
    "import pandas as pd # data processing, CSV file I/O (e.g. pd.read_csv)\n",
    "import time\n",
    "from sklearn.model_selection import train_test_split\n",
    "from sklearn.metrics import classification_report"
   ]
  },
  {
   "cell_type": "code",
   "execution_count": 8,
   "metadata": {
    "execution": {
     "iopub.execute_input": "2022-10-26T12:57:06.045160Z",
     "iopub.status.busy": "2022-10-26T12:57:06.044204Z",
     "iopub.status.idle": "2022-10-26T12:57:09.651601Z",
     "shell.execute_reply": "2022-10-26T12:57:09.650606Z",
     "shell.execute_reply.started": "2022-10-26T12:57:06.045123Z"
    }
   },
   "outputs": [],
   "source": [
    "df_train = pd.read_csv('./fashion-mnist_train.csv') \n",
    "df_test = pd.read_csv('./fashion-mnist_test.csv') "
   ]
  },
  {
   "cell_type": "code",
   "execution_count": 9,
   "metadata": {
    "execution": {
     "iopub.execute_input": "2022-10-26T12:57:09.653917Z",
     "iopub.status.busy": "2022-10-26T12:57:09.653562Z",
     "iopub.status.idle": "2022-10-26T12:57:09.975558Z",
     "shell.execute_reply": "2022-10-26T12:57:09.974580Z",
     "shell.execute_reply.started": "2022-10-26T12:57:09.653889Z"
    }
   },
   "outputs": [],
   "source": [
    "y_train = df_train.label\n",
    "X_train = df_train.drop([\"label\"], axis = 1)/255\n",
    "y_test = df_test.label\n",
    "X_test = df_test.drop([\"label\"], axis = 1)/255"
   ]
  },
  {
   "cell_type": "code",
   "execution_count": 10,
   "metadata": {
    "execution": {
     "iopub.execute_input": "2022-10-26T12:57:09.977403Z",
     "iopub.status.busy": "2022-10-26T12:57:09.977042Z",
     "iopub.status.idle": "2022-10-26T12:57:09.984786Z",
     "shell.execute_reply": "2022-10-26T12:57:09.983847Z",
     "shell.execute_reply.started": "2022-10-26T12:57:09.977365Z"
    }
   },
   "outputs": [],
   "source": [
    "from sklearn.tree import DecisionTreeClassifier\n",
    "from sklearn.neighbors import KNeighborsClassifier\n",
    "from sklearn.naive_bayes import MultinomialNB\n",
    "\n",
    "DecisionTree_model = DecisionTreeClassifier(random_state=10, splitter='random', max_depth=13)\n",
    "NearestNeighbors_model = KNeighborsClassifier(leaf_size=50)\n",
    "NaïveBayes_model = MultinomialNB()"
   ]
  },
  {
   "cell_type": "markdown",
   "metadata": {},
   "source": [
    "### **選擇了三個分類模型：**\n",
    "* **Decision trees：DecisionTreeClassifier()**\n",
    "* **Nearest neighbors：KNeighborsClassifier()**\n",
    "* **Naïve Bayes model：MultinomialNB()**"
   ]
  },
  {
   "cell_type": "code",
   "execution_count": 11,
   "metadata": {
    "execution": {
     "iopub.execute_input": "2022-10-26T12:57:09.988328Z",
     "iopub.status.busy": "2022-10-26T12:57:09.987548Z",
     "iopub.status.idle": "2022-10-26T12:57:17.681806Z",
     "shell.execute_reply": "2022-10-26T12:57:17.680439Z",
     "shell.execute_reply.started": "2022-10-26T12:57:09.988288Z"
    }
   },
   "outputs": [],
   "source": [
    "a = time.time()\n",
    "DecisionTree_model.fit(X_train, y_train)\n",
    "b = time.time()\n",
    "NearestNeighbors_model.fit(X_train, y_train)\n",
    "c = time.time()\n",
    "NaïveBayes_model.fit(X_train, y_train)\n",
    "d = time.time()"
   ]
  },
  {
   "cell_type": "markdown",
   "metadata": {},
   "source": [
    "### **訓練模型並計算三模型之訓練時間**"
   ]
  },
  {
   "cell_type": "code",
   "execution_count": 12,
   "metadata": {
    "execution": {
     "iopub.execute_input": "2022-10-26T12:57:17.688800Z",
     "iopub.status.busy": "2022-10-26T12:57:17.688092Z"
    }
   },
   "outputs": [],
   "source": [
    "DecisionTree_y_predict = DecisionTree_model.predict(X_test)\n",
    "NearestNeighbors_y_predict = NearestNeighbors_model.predict(X_test)\n",
    "NaïveBayes_y_predict = NaïveBayes_model.predict(X_test)"
   ]
  },
  {
   "cell_type": "code",
   "execution_count": null,
   "metadata": {},
   "outputs": [],
   "source": [
    "from sklearn.metrics import accuracy_score\n",
    "print(\"Accuracy of DecisionTree_model : \" + str(accuracy_score(DecisionTree_y_predict, y_test)))\n",
    "print(\"Training time of DecisionTree_model : \", b-a, 'seconds')\n",
    "print(\"----------------------------------------------------------------------\")\n",
    "print(\"Accuracy of NaïveBayes_model : \" + str(accuracy_score(NearestNeighbors_y_predict, y_test)))\n",
    "print(\"Training time of NaïveBayes_model : \", d-c, 'seconds')\n",
    "print(\"----------------------------------------------------------------------\")\n",
    "print(\"Accuracy of NearestNeighbors_model : \" + str(accuracy_score(NaïveBayes_y_predict, y_test)))\n",
    "print(\"Training time of NearestNeighbors_model : \", c-b, 'seconds')"
   ]
  }
 ],
 "metadata": {
  "kernelspec": {
   "display_name": "Python 3.9.12 ('base')",
   "language": "python",
   "name": "python3"
  },
  "language_info": {
   "codemirror_mode": {
    "name": "ipython",
    "version": 3
   },
   "file_extension": ".py",
   "mimetype": "text/x-python",
   "name": "python",
   "nbconvert_exporter": "python",
   "pygments_lexer": "ipython3",
   "version": "3.9.12"
  },
  "vscode": {
   "interpreter": {
    "hash": "ad2bdc8ecc057115af97d19610ffacc2b4e99fae6737bb82f5d7fb13d2f2c186"
   }
  }
 },
 "nbformat": 4,
 "nbformat_minor": 4
}
